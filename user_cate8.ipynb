{
 "cells": [
  {
   "cell_type": "markdown",
   "metadata": {},
   "source": [
    "### Predict items to buy\n",
    "\n",
    "Need to use (user, sku) pairs for the prediction\n",
    "\n",
    "Use simple analysis to look at the probability\n"
   ]
  },
  {
   "cell_type": "code",
   "execution_count": 1,
   "metadata": {
    "collapsed": true
   },
   "outputs": [],
   "source": [
    "import base\n",
    "import numpy as np\n",
    "import pandas as pd\n",
    "\n",
    "pus = base.UserTrainSet(product_cate=8)"
   ]
  },
  {
   "cell_type": "code",
   "execution_count": 2,
   "metadata": {
    "collapsed": true
   },
   "outputs": [],
   "source": [
    "data = pd.DataFrame(pus.get_user_action('favor', pus.TYPE_FAVOR, 0, 6e6))\n",
    "data = data.join(pus.get_user_action('buy1', pus.TYPE_BUY, 0, 3e6), how='outer')\n",
    "data = data.join(pus.get_user_action('buy2', pus.TYPE_BUY, 3e6, 5e6), how='outer')\n",
    "data = data.join(pus.get_user_action('buy3', pus.TYPE_BUY, 5e6, 6e6), how='outer')\n",
    "data = data.join(pus.get_user_action('view1', pus.TYPE_VIEW, 0, 3e6), how='outer')\n",
    "data = data.join(pus.get_user_action('view2', pus.TYPE_VIEW, 3e6, 5e6), how='outer')\n",
    "data = data.join(pus.get_user_action('view3', pus.TYPE_VIEW, 5e6, 6e6), how='outer')\n",
    "data = data.join(pus.get_user_cart('cart1', 0, 3e6, True), how='outer')\n",
    "data = data.join(pus.get_user_cart('cart2', 0, 6e6, True), how='outer')\n",
    "data = data.join(pus.get_user_action('click1', pus.TYPE_CLICK, 0, 3e6), how='outer')\n",
    "data = data.join(pus.get_user_action('click2', pus.TYPE_CLICK, 3e6, 5e6), how='outer')\n",
    "data = data.join(pus.get_user_action('click3', pus.TYPE_CLICK, 5e6, 6e6), how='outer')\n",
    "data = data.join(pus.get_user_action('final', pus.TYPE_BUY, 6e6, 6e6 + 5 * 24 *3600), how='outer')\n",
    "data[pd.isnull(data)] = 0"
   ]
  },
  {
   "cell_type": "code",
   "execution_count": 3,
   "metadata": {
    "collapsed": true
   },
   "outputs": [],
   "source": [
    "def factor_analyse(col1, col2, dt=data, print_out=True):\n",
    "    f1 = dt[col1] > 0\n",
    "    f2 = dt[col2] > 0\n",
    "    num1 = np.sum(np.logical_and(f1, f2))\n",
    "    num2 = np.sum(np.logical_and(f1, np.logical_not(f2)))\n",
    "    num3 = np.sum(np.logical_and(np.logical_not(f1), f2))\n",
    "    num4 = np.sum(np.logical_not(np.logical_or(f1, f2)))\n",
    "    if print_out:\n",
    "        print '\\t{}\\t{}'.format(col2, '-')\n",
    "        print '{}\\t{}\\t{}'.format(col1, num1, num2)\n",
    "        print '{}\\t{}\\t{}'.format('-', num3, num4)\n",
    "    return num1, num2, num3, num4"
   ]
  },
  {
   "cell_type": "code",
   "execution_count": 4,
   "metadata": {},
   "outputs": [
    {
     "name": "stdout",
     "output_type": "stream",
     "text": [
      "\tfinal\t-\n",
      "favor\t173\t15256\n",
      "-\t1136\t86476\n",
      "\tfinal\t-\n",
      "buy1\t0\t3104\n",
      "-\t1309\t98628\n",
      "\tfinal\t-\n",
      "buy2\t0\t5430\n",
      "-\t1309\t96302\n",
      "\tfinal\t-\n",
      "buy3\t0\t2816\n",
      "-\t1309\t98916\n",
      "\tfinal\t-\n",
      "view1\t289\t62560\n",
      "-\t1020\t39172\n",
      "\tfinal\t-\n",
      "view2\t489\t80301\n",
      "-\t820\t21431\n",
      "\tfinal\t-\n",
      "view3\t802\t54685\n",
      "-\t507\t47047\n",
      "\tfinal\t-\n",
      "cart1\t82\t15359\n",
      "-\t1227\t86373\n",
      "\tfinal\t-\n",
      "cart2\t532\t38611\n",
      "-\t777\t63121\n",
      "\tfinal\t-\n",
      "click1\t277\t60312\n",
      "-\t1032\t41420\n",
      "\tfinal\t-\n",
      "click2\t470\t77066\n",
      "-\t839\t24666\n",
      "\tfinal\t-\n",
      "click3\t764\t52300\n",
      "-\t545\t49432\n",
      "\tfinal\t-\n",
      "final\t1309\t0\n",
      "-\t0\t101732\n"
     ]
    }
   ],
   "source": [
    "buy_stat = pd.DataFrame()\n",
    "for col in data.columns:\n",
    "    buy_stat[col] = factor_analyse(col, 'final')\n",
    "\n",
    "import pickle\n",
    "with open('data/probability', 'w') as f:\n",
    "    pickle.dump(buy_stat, f)"
   ]
  },
  {
   "cell_type": "code",
   "execution_count": 5,
   "metadata": {},
   "outputs": [
    {
     "name": "stdout",
     "output_type": "stream",
     "text": [
      "favor \t+\t0.0112126515004 \t-\t0.0129662603296 \tratio\t0.864756006386\n",
      "buy1 \t+\t0.0 \t-\t0.0130982518987 \tratio\t0.0\n",
      "buy2 \t+\t0.0 \t-\t0.0134103738308 \tratio\t0.0\n",
      "buy3 \t+\t0.0 \t-\t0.0130606136194 \tratio\t0.0\n",
      "view1 \t+\t0.00459832296457 \t-\t0.0253781847134 \tratio\t0.181191957443\n",
      "view2 \t+\t0.00605272929818 \t-\t0.0368522763022 \tratio\t0.164243023919\n",
      "view3 \t+\t0.0144538360337 \t-\t0.010661563696 \tratio\t1.35569569772\n",
      "cart1 \t+\t0.00531053688233 \t-\t0.0140068493151 \tratio\t0.379138574484\n",
      "cart2 \t+\t0.013591191273 \t-\t0.012160005008 \tratio\t1.11769619043\n",
      "click1 \t+\t0.00457178695803 \t-\t0.0243098087251 \tratio\t0.188063468936\n",
      "click2 \t+\t0.00606170037144 \t-\t0.0328955106842 \tratio\t0.184271356345\n",
      "click3 \t+\t0.0143977084276 \t-\t0.0109050163075 \tratio\t1.32028307171\n",
      "final \t+\t1.0 \t-\t1e-08 \tratio\t100000000.0\n"
     ]
    }
   ],
   "source": [
    "for col in buy_stat.columns:\n",
    "    prob1 = buy_stat[col][0] * 1.0 / (buy_stat[col][0] + buy_stat[col][1])\n",
    "    prob2 = buy_stat[col][2] * 1.0 / (buy_stat[col][2] + buy_stat[col][3])\n",
    "    if prob2 == 0.0:\n",
    "        prob2 += 1e-8\n",
    "    print col, '\\t+\\t', prob1, '\\t-\\t', prob2, '\\tratio\\t', prob1 / prob2"
   ]
  },
  {
   "cell_type": "code",
   "execution_count": 6,
   "metadata": {
    "scrolled": false
   },
   "outputs": [
    {
     "name": "stdout",
     "output_type": "stream",
     "text": [
      "favor + subset\n",
      "buy1 \t0.0 \t0.0116091799758 \t0.0\n",
      "buy2 \t0.0 \t0.0120515499826 \t0.0\n",
      "buy3 \t0.0 \t0.0116271254789 \t0.0\n",
      "view1 \t0.00611741489887 \t0.0209671326029 \t0.291762112384\n",
      "view2 \t0.00763417054737 \t0.031330472103 \t0.243665991443\n",
      "view3 \t0.016330451489 \t0.003300330033 \t4.94812680115\n",
      "cart1 \t0.00397877984085 \t0.0129702731008 \t0.306761454438\n",
      "cart2 \t0.012815483196 \t0.00963762528913 \t1.32973453642\n",
      "click1 \t0.00611184679637 \t0.0201354240912 \t0.303537028507\n",
      "click2 \t0.00769956002514 \t0.0277674935209 \t0.277286821705\n",
      "click3 \t0.0166519629466 \t0.00345857569565 \t4.81468801379\n",
      "\n",
      "buy1 + subset\n",
      "favor \t0.0 \t0.000388048117967 \t0.0\n",
      "buy2 \t0.0 \t0.000322268772156 \t0.0\n",
      "buy3 \tnan \t0.000322164948454 \tnan\n",
      "view1 \t0.0 \t0.2 \t0.0\n",
      "view2 \t0.0 \t0.000630914826498 \t0.0\n",
      "view3 \t0.0 \t0.000396196513471 \t0.0\n",
      "cart1 \t0.0 \t0.00178571428571 \t0.0\n",
      "cart2 \t0.0 \t0.0017667844523 \t0.0\n",
      "click1 \t0.0 \t0.00961538461538 \t0.0\n",
      "click2 \t0.0 \t0.000607164541591 \t0.0\n",
      "click3 \t0.0 \t0.000392156862745 \t0.0\n",
      "\n",
      "buy2 + subset\n",
      "favor \t0.0 \t0.000229568411387 \t0.0\n",
      "buy1 \t0.0 \t0.000184195984528 \t0.0\n",
      "buy3 \t0.0 \t0.000184195984528 \t0.0\n",
      "view1 \t0.0 \t0.000341646737274 \t0.0\n",
      "view2 \t0.0 \t0.047619047619 \t0.0\n",
      "view3 \t0.0 \t0.000279173646008 \t0.0\n",
      "cart1 \t0.0 \t0.00022040996253 \t0.0\n",
      "cart2 \t0.0 \t0.00101419878296 \t0.0\n",
      "click1 \t0.0 \t0.000331674958541 \t0.0\n",
      "click2 \t0.0 \t0.00564971751412 \t0.0\n",
      "click3 \t0.0 \t0.000273373428103 \t0.0\n",
      "\n",
      "buy3 + subset\n",
      "favor \t0.0 \t0.000441306266549 \t0.0\n",
      "buy1 \tnan \t0.000355113636364 \tnan\n",
      "buy2 \t0.0 \t0.000355239786856 \t0.0\n",
      "view1 \t0.0 \t0.000493827160494 \t0.0\n",
      "view2 \t0.0 \t0.000807754442649 \t0.0\n",
      "view3 \t0.0 \t0.0666666666667 \t0.0\n",
      "cart1 \t0.0 \t0.000383582662064 \t0.0\n",
      "cart2 \t0.0 \t0.00377358490566 \t0.0\n",
      "click1 \t0.0 \t0.000485672656629 \t0.0\n",
      "click2 \t0.0 \t0.000763358778626 \t0.0\n",
      "click3 \t0.0 \t0.00970873786408 \t0.0\n",
      "\n",
      "view1 + subset\n",
      "favor \t0.00611741489887 \t0.00430625640247 \t1.42058770475\n",
      "buy1 \t0.0 \t0.00483682008368 \t0.0\n",
      "buy2 \t0.0 \t0.00478904981275 \t0.0\n",
      "buy3 \t0.0 \t0.00465693383609 \t0.0\n",
      "view2 \t0.00387644597588 \t0.00709572128007 \t0.546307531381\n",
      "view3 \t0.00668802140167 \t0.00287456445993 \t2.32662077852\n",
      "cart1 \t0.0049655720339 \t0.0044821447272 \t1.10785624653\n",
      "cart2 \t0.00683929800413 \t0.00328274538522 \t2.08340800201\n",
      "click1 \t0.00454658179714 \t0.00592216582064 \t0.767722812031\n",
      "click2 \t0.00390749431927 \t0.00666243654822 \t0.586496290206\n",
      "click3 \t0.00676021340349 \t0.00293098103317 \t2.30646780958\n",
      "\n",
      "view2 + subset\n",
      "favor \t0.00763417054737 \t0.00574670192492 \t1.32844380083\n"
     ]
    },
    {
     "name": "stderr",
     "output_type": "stream",
     "text": [
      "/usr/local/lib/python2.7/site-packages/ipykernel_launcher.py:10: RuntimeWarning: invalid value encountered in double_scalars\n",
      "  # Remove the CWD from sys.path while we load stuff.\n"
     ]
    },
    {
     "name": "stdout",
     "output_type": "stream",
     "text": [
      "buy1 \t0.0 \t0.00616871239167 \t0.0\n",
      "buy2 \t0.0 \t0.0064870458073 \t0.0\n",
      "buy3 \t0.0 \t0.00617330707469 \t0.0\n",
      "view1 \t0.00387644597588 \t0.00936504963476 \t0.413926901304\n",
      "view3 \t0.0075613929612 \t0.00431493714042 \t1.75237615639\n",
      "cart1 \t0.00459418070444 \t0.00630106031636 \t0.729112319797\n",
      "cart2 \t0.00861361771944 \t0.00439954375102 \t1.95784340534\n",
      "click1 \t0.0039595529537 \t0.00896052047908 \t0.441888723199\n",
      "click2 \t0.00604260813428 \t0.0062874251497 \t0.961062436595\n",
      "click3 \t0.00778605280975 \t0.00423492417711 \t1.83853417066\n",
      "\n",
      "view3 + subset\n",
      "favor \t0.016330451489 \t0.0140725963832 \t1.16044339255\n",
      "buy1 \t0.0 \t0.0146065164733 \t0.0\n",
      "buy2 \t0.0 \t0.0149518074535 \t0.0\n",
      "buy3 \t0.0 \t0.015222260183 \t0.0\n",
      "view1 \t0.00668802140167 \t0.022601373809 \t0.295912162605\n",
      "view2 \t0.0075613929612 \t0.0388040192795 \t0.194861076291\n",
      "cart1 \t0.00908190224571 \t0.0151119742672 \t0.600973908845\n",
      "cart2 \t0.0196860415783 \t0.0105899677288 \t1.85893310371\n",
      "click1 \t0.0066261531703 \t0.0220439459018 \t0.300588342932\n",
      "click2 \t0.00771177250271 \t0.0344482561464 \t0.223865395971\n",
      "click3 \t0.0144360674943 \t0.0148205928237 \t0.974054659351\n",
      "\n",
      "cart1 + subset\n",
      "favor \t0.00397877984085 \t0.0056338028169 \t0.706233421751\n",
      "buy1 \t0.0 \t0.0063580677677 \t0.0\n",
      "buy2 \t0.0 \t0.00563651361012 \t0.0\n",
      "buy3 \t0.0 \t0.00538340336134 \t0.0\n",
      "view1 \t0.0049655720339 \t0.0207715133531 \t0.239056825061\n",
      "view2 \t0.00459418070444 \t0.00759425006781 \t0.604955152046\n",
      "view3 \t0.00908190224571 \t0.00287693127331 \t3.15680194726\n",
      "cart2 \t0.00567610288835 \t0.00196979645437 \t2.88156823298\n",
      "click1 \t0.00504878215187 \t0.0102040816327 \t0.494780650884\n",
      "click2 \t0.00449062252355 \t0.00759059745348 \t0.59160330278\n",
      "click3 \t0.00926243567753 \t0.00291332847779 \t3.17933104631\n",
      "\n",
      "cart2 + subset\n",
      "favor \t0.012815483196 \t0.0137795275591 \t0.930037923369\n",
      "buy1 \t0.0 \t0.0145335336703 \t0.0\n",
      "buy2 \t0.0 \t0.0153318539439 \t0.0\n",
      "buy3 \t0.0 \t0.0145386969829 \t0.0\n",
      "view1 \t0.00683929800413 \t0.023466498899 \t0.291449441758\n",
      "view2 \t0.00861361771944 \t0.0347697677541 \t0.247732966765\n",
      "view3 \t0.0196860415783 \t0.00436653181789 \t4.50839302204\n",
      "cart1 \t0.00567610288835 \t0.0179583746283 \t0.316069967679\n",
      "click1 \t0.00685938265556 \t0.0226455787203 \t0.302901627742\n",
      "click2 \t0.00871097190956 \t0.0312058407913 \t0.279145560211\n",
      "click3 \t0.0194602210188 \t0.00547778454047 \t3.55257145932\n",
      "\n",
      "click1 + subset\n",
      "favor \t0.00611184679637 \t0.00427400929646 \t1.4300031592\n",
      "buy1 \t0.0 \t0.00480994634392 \t0.0\n",
      "buy2 \t0.0 \t0.00476157733695 \t0.0\n",
      "buy3 \t0.0 \t0.00462962962963 \t0.0\n",
      "view1 \t0.00454658179714 \t0.0192307692308 \t0.236422253451\n",
      "view2 \t0.0039595529537 \t0.00668429557808 \t0.592366526502\n",
      "view3 \t0.0066261531703 \t0.00288522225228 \t2.29658327537\n",
      "cart1 \t0.00504878215187 \t0.00441957676565 \t1.14236779212\n",
      "cart2 \t0.00685938265556 \t0.00322512979181 \t2.12685476193\n",
      "click2 \t0.003964150293 \t0.00656177238411 \t0.604127979599\n",
      "click3 \t0.00672412512074 \t0.00285111817291 \t2.35841684313\n",
      "\n",
      "click2 + subset\n",
      "favor \t0.00769956002514 \t0.0057400320948 \t1.34137926373\n",
      "buy1 \t0.0 \t0.00617778887735 \t0.0\n",
      "buy2 \t0.0 \t0.00650222043911 \t0.0\n",
      "buy3 \t0.0 \t0.00618177035381 \t0.0\n",
      "view1 \t0.00390749431927 \t0.0093933720892 \t0.415984194191\n",
      "view2 \t0.00604260813428 \t0.0232558139535 \t0.259832149774\n",
      "view3 \t0.00771177250271 \t0.0041619266946 \t1.85293328513\n",
      "cart1 \t0.00449062252355 \t0.00633131355868 \t0.709271856769\n",
      "cart2 \t0.00871097190956 \t0.00432974298816 \t2.01189122158\n",
      "click1 \t0.003964150293 \t0.00919023136247 \t0.431343906008\n",
      "click3 \t0.00776694271573 \t0.0041664397364 \t1.86416778044\n",
      "\n",
      "click3 + subset\n",
      "favor \t0.0166519629466 \t0.0139330848259 \t1.19513827374\n",
      "buy1 \t0.0 \t0.0145496095982 \t0.0\n",
      "buy2 \t0.0 \t0.0148951103486 \t0.0\n",
      "buy3 \t0.0 \t0.0151734821553 \t0.0\n",
      "view1 \t0.00676021340349 \t0.0225309362596 \t0.300041388675\n",
      "view2 \t0.00778605280975 \t0.0377519644687 \t0.206242321938\n",
      "view3 \t0.0144360674943 \t0.00709219858156 \t2.03548551669\n",
      "cart1 \t0.00926243567753 \t0.0150315450735 \t0.616199840553\n",
      "cart2 \t0.0194602210188 \t0.0106092056275 \t1.83427691969\n",
      "click1 \t0.00672412512074 \t0.0222978658303 \t0.301559134488\n",
      "click2 \t0.00776694271573 \t0.0364897959184 \t0.212852456975\n",
      "\n",
      "\n"
     ]
    }
   ],
   "source": [
    "# More complex interactions\n",
    "for col in data.columns:\n",
    "    if col != 'final':\n",
    "        sub_set = data[data[col] > 0]\n",
    "        print col, \"+ subset\"\n",
    "\n",
    "        for col2 in sub_set.columns:\n",
    "            if col2 != col and col2 != 'final':\n",
    "                ret = factor_analyse(col2, 'final', sub_set, False)\n",
    "                prob1 = ret[0] * 1.0 / (ret[0] + ret[1])\n",
    "                prob2 = ret[2] * 1.0 / (ret[2] + ret[3])\n",
    "                if ret[2] == 0:\n",
    "                    prob2 = 1.0 / (ret[2] + ret[3])\n",
    "                print col2, '\\t', prob1, '\\t', prob2, '\\t', prob1 / prob2\n",
    "    print"
   ]
  },
  {
   "cell_type": "markdown",
   "metadata": {},
   "source": [
    "#### Summary\n",
    "\n",
    "Favor will increase probability for buying.\n",
    "\n",
    "Recent click/viewing/adding to cart increases probability.\n",
    "\n",
    "If the item is added to cart/viewed/clicked early on, it's less likely to be bought.\n",
    "\n",
    "If the item has been bought, it will never be bought again.\n"
   ]
  },
  {
   "cell_type": "code",
   "execution_count": 7,
   "metadata": {
    "collapsed": true
   },
   "outputs": [],
   "source": [
    "train_data = data.drop('final', 1).as_matrix()\n",
    "train_label = np.array(data['final'] > 0, dtype=int)\n",
    "mean_dt = np.mean(train_data, axis=0)\n",
    "std_dt = np.std(train_data, axis=0)\n",
    "train_data = (train_data - mean_dt) / std_dt"
   ]
  },
  {
   "cell_type": "code",
   "execution_count": 8,
   "metadata": {
    "collapsed": true
   },
   "outputs": [],
   "source": [
    "nrow = len(train_data)\n",
    "test_size = int(nrow * 0.3)\n",
    "import random\n",
    "idx = random.sample(xrange(nrow), test_size)\n",
    "mask = np.ones(nrow, dtype=bool)\n",
    "mask[idx] = False\n",
    "np.save('train_data4', train_data[mask, :])\n",
    "np.save('train_label4', train_label[mask])\n",
    "np.save('test_data4', train_data[idx, :])\n",
    "np.save('test_label4', train_label[idx])"
   ]
  },
  {
   "cell_type": "code",
   "execution_count": null,
   "metadata": {
    "collapsed": true
   },
   "outputs": [],
   "source": []
  }
 ],
 "metadata": {
  "kernelspec": {
   "display_name": "Python 2",
   "language": "python",
   "name": "python2"
  },
  "language_info": {
   "codemirror_mode": {
    "name": "ipython",
    "version": 2
   },
   "file_extension": ".py",
   "mimetype": "text/x-python",
   "name": "python",
   "nbconvert_exporter": "python",
   "pygments_lexer": "ipython2",
   "version": "2.7.13"
  }
 },
 "nbformat": 4,
 "nbformat_minor": 2
}
