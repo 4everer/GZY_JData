{
 "cells": [
  {
   "cell_type": "markdown",
   "metadata": {},
   "source": [
    "## User data preprocessing\n",
    "Read and deposit into pickle\n",
    "Allow random sampling of user data\n"
   ]
  },
  {
   "cell_type": "code",
   "execution_count": 16,
   "metadata": {
    "collapsed": true
   },
   "outputs": [],
   "source": [
    "# -*- coding: UTF-8 -*-\n",
    "# Basic imports\n",
    "import time\n",
    "from datetime import datetime\n",
    "from datetime import timedelta\n",
    "import pandas as pd\n",
    "import pickle\n",
    "import os\n",
    "import math\n",
    "import matplotlib.pyplot as plt\n",
    "import numpy as np\n",
    "import random\n",
    "from __future__ import division\n",
    "\n",
    "plt.style.use('ggplot')\n",
    "%matplotlib inline\n",
    "\n",
    "action_1_path = \"./data/JData_Action_201602.csv\"\n",
    "action_2_path = \"./data/JData_Action_201603.csv\"\n",
    "action_3_path = \"./data/JData_Action_201604.csv\"\n",
    "comment_path = \"./data/JData_Comment.csv\"\n",
    "product_path = \"./data/JData_Product.csv\"\n",
    "user_path = \"./data/JData_User.csv\"\n",
    "\n",
    "test_start = '2016-02-01'\n",
    "test_end = '2016-04-15'"
   ]
  },
  {
   "cell_type": "code",
   "execution_count": 20,
   "metadata": {
    "collapsed": true
   },
   "outputs": [],
   "source": [
    "def convert_age(age_str):\n",
    "        if age_str == u'-1':\n",
    "            return 0\n",
    "        elif age_str == u'15岁以下':\n",
    "            return 1\n",
    "        elif age_str == u'16-25岁':\n",
    "            return 2\n",
    "        elif age_str == u'26-35岁':\n",
    "            return 3\n",
    "        elif age_str == u'36-45岁':\n",
    "            return 4\n",
    "        elif age_str == u'46-55岁':\n",
    "            return 5\n",
    "        elif age_str == u'56岁以上':\n",
    "            return 6\n",
    "        else:\n",
    "            return -1\n",
    "        \n",
    "class UserSampler(object):\n",
    "    def __init__(self, file):\n",
    "        if file[-3:] == 'csv':\n",
    "            self.load_csv(file)\n",
    "        else:\n",
    "            self.load_pickle(file)\n",
    "        self.sequence = np.arange(len(self.user_data))\n",
    "        random.shuffle(self.sequence)\n",
    "        self.sequence_index = 0\n",
    "        \n",
    "    def load_csv(self, file):\n",
    "        user_data_pkl = 'data/user_simple'\n",
    "        self.user_data = pd.read_csv(file, encoding='gbk')\n",
    "        self.user_data['age'] = self.user_data['age'].map(convert_age)\n",
    "        self.user_data['sex'] = self.user_data['sex'].map(int)\n",
    "        self.user_data = self.user_data[self.user_data['user_reg_tm'] < test_start]\n",
    "        with open(user_data_pkl, 'w') as f:\n",
    "            pickle.dump(self.user_data, f)\n",
    "    \n",
    "    def load_pickle(self, file):\n",
    "        with open(file, 'r') as f:\n",
    "            self.user_data = pickle.load(f)\n",
    "            \n",
    "    def get_user_batch(self, size=300):\n",
    "        idx = self.sequence[self.sequence_index:(self.sequence_index + size)]\n",
    "        self.sequence_index += size\n",
    "        return self.user_data.iloc[idx]"
   ]
  },
  {
   "cell_type": "markdown",
   "metadata": {},
   "source": [
    "### Unit test for UserSampler\n",
    "To do"
   ]
  },
  {
   "cell_type": "code",
   "execution_count": 23,
   "metadata": {},
   "outputs": [
    {
     "name": "stdout",
     "output_type": "stream",
     "text": [
      "83297    283298\n",
      "31167    231168\n",
      "81946    281947\n",
      "63562    263563\n",
      "13161    213162\n",
      "79488    279489\n",
      "72462    272463\n",
      "47275    247276\n",
      "72738    272739\n",
      "20271    220272\n",
      "15393    215394\n",
      "98458    298459\n",
      "25465    225466\n",
      "34059    234060\n",
      "95462    295463\n",
      "65616    265617\n",
      "32845    232846\n",
      "30066    230067\n",
      "35037    235038\n",
      "6744     206745\n",
      "Name: user_id, dtype: int64\n"
     ]
    }
   ],
   "source": [
    "us = UserSampler('data/user_simple')\n",
    "batch = us.get_user_batch(20)\n",
    "print batch['user_id']"
   ]
  },
  {
   "cell_type": "markdown",
   "metadata": {},
   "source": [
    "### Action data\n",
    "Convert time to seconds from start, int.\n",
    "\n",
    "Drop model_id. Too complicated.\n",
    "\n",
    "Generate impulse of actions from sampled users.\n",
    "\n",
    " Use exponential kernel for impulses. \n",
    " \n",
    " Use 6 different kernels for 6 types of action (1-6)"
   ]
  },
  {
   "cell_type": "code",
   "execution_count": 24,
   "metadata": {
    "collapsed": true
   },
   "outputs": [],
   "source": [
    "# Simplify action data\n",
    "with open('data/all_action', 'r') as f:\n",
    "    all_action = pickle.load(f)\n",
    "all_action = all_action.drop('model_id', 1)\n",
    "all_action['time'] = pd.to_datetime(all_action['time']) - datetime.date(2016, 2, 1)\n",
    "all_action['time'] = all_action['time'].map(lambda x:int(x.total_seconds()))\n",
    "all_action['user_id'] = all_action['user_id'].map(int)\n",
    "all_action = all_action.as_matrix()\n",
    "np.save('data/action_simple', all_action)\n",
    "del all_action"
   ]
  },
  {
   "cell_type": "code",
   "execution_count": 50,
   "metadata": {
    "collapsed": true
   },
   "outputs": [],
   "source": [
    "class ActionSampler(object):\n",
    "    num_action = 6\n",
    "    columns = {'user_id': 0, 'sku_id': 1, 'time': 2, 'type': 3, 'cate': 4, 'brand': 5}\n",
    "    TYPE_VIEW = 1\n",
    "    TYPE_CART = 2\n",
    "    TYPE_DECART = 3\n",
    "    TYPE_BUY = 4\n",
    "    TYPE_FAVOR = 5\n",
    "    TYPE_CLICK = 6\n",
    "    def __init__(self, action_npy):\n",
    "        self.all_action = np.load(action_npy)\n",
    "        self.kernel_list = []\n",
    "        \n",
    "    def __getitem__(self, key):\n",
    "        return self.columns[key]\n",
    "    \n",
    "    def add_kernel(self, weights):\n",
    "        assert len(weights) == self.num_action, \"Each action type requires a weight\"\n",
    "        self.kernel_list.append(weights)\n",
    "    \n",
    "    def get_kernel(self, kernel_id):\n",
    "        return self.kernel_list[kernel_id]\n",
    "    \n",
    "    def get_column(self, column_name):\n",
    "        return self.columns[column_name]\n",
    "    \n",
    "    def get_impulse(self, user_id, till_time, kernel_id=0):\n",
    "        data = self.all_action[self.all_action[:, self.get_column('user_id')] == user_id, :]\n",
    "        kernel = self.get_kernel(kernel_id)\n",
    "        category = np.unique(data[:, self.get_column('cate')])\n",
    "        impulse = np.zeros([len(category), self.num_action + 1])\n",
    "        for cate_idx, cate in enumerate(category):\n",
    "            cate_data = data[data[:, self.get_column('cate')] == cate, :]\n",
    "            impulse[cate_idx, 0] = cate\n",
    "            for action in range(self.num_action):\n",
    "                action_time = np.array(cate_data[cate_data[:, \n",
    "                                            self.get_column('type')] == action + 1, \n",
    "                                            self.get_column('time')])\n",
    "                action_time = action_time[action_time < till_time]\n",
    "                impulse[cate_idx, action + 1] = np.sum(np.exp((till_time - action_time)\n",
    "                                                * kernel[action]))\n",
    "        return impulse\n",
    "    \n",
    "    def get_purchase(self, user_id, start_time, end_time):\n",
    "        data = self.all_action[self.all_action[:, self.get_column('user_id')] == user_id, :]\n",
    "        data = data[data[:, self.get_column('type')] == self.TYPE_BUY, :]\n",
    "        data = data[data[:, self.get_column('time')] > start_time, :]\n",
    "        data = data[data[:, self.get_column('time')] < end_time, :]\n",
    "        return data\n",
    "        \n",
    "            "
   ]
  },
  {
   "cell_type": "markdown",
   "metadata": {},
   "source": [
    "### Unit test for ActionSampler\n",
    "\n",
    "To do"
   ]
  },
  {
   "cell_type": "code",
   "execution_count": 51,
   "metadata": {},
   "outputs": [
    {
     "name": "stdout",
     "output_type": "stream",
     "text": [
      "[-1e-05, -1e-05, -1e-05, -1e-05, -1e-05, -1e-05]\n"
     ]
    }
   ],
   "source": [
    "asampler = ActionSampler('data/action_simple.npy')\n",
    "asampler.add_kernel([-0.00001, -0.00001, -0.00001, -0.00001, -0.00001, -0.00001])\n",
    "print asampler.get_kernel(0)"
   ]
  },
  {
   "cell_type": "code",
   "execution_count": 52,
   "metadata": {},
   "outputs": [
    {
     "name": "stdout",
     "output_type": "stream",
     "text": [
      "[[  4.           0.           0.           0.           0.           0.\n",
      "    0.        ]\n",
      " [  8.          12.54077758   1.44942234   0.30012173   0.09082688   0.\n",
      "   29.33336009]]\n",
      "[]\n"
     ]
    }
   ],
   "source": [
    "print asampler.get_impulse(266079, 3e5)\n",
    "print asampler.get_purchase(266079, 3e5, 4e6)"
   ]
  },
  {
   "cell_type": "code",
   "execution_count": null,
   "metadata": {
    "collapsed": true
   },
   "outputs": [],
   "source": []
  }
 ],
 "metadata": {
  "kernelspec": {
   "display_name": "Python 2",
   "language": "python",
   "name": "python2"
  },
  "language_info": {
   "codemirror_mode": {
    "name": "ipython",
    "version": 2
   },
   "file_extension": ".py",
   "mimetype": "text/x-python",
   "name": "python",
   "nbconvert_exporter": "python",
   "pygments_lexer": "ipython2",
   "version": "2.7.13"
  }
 },
 "nbformat": 4,
 "nbformat_minor": 2
}
