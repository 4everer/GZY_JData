{
 "cells": [
  {
   "cell_type": "markdown",
   "metadata": {},
   "source": [
    "### Predict items to buy\n",
    "\n",
    "Need to use (user, sku) pairs for the prediction\n",
    "\n",
    "Use simple analysis to look at the probability\n"
   ]
  },
  {
   "cell_type": "code",
   "execution_count": 10,
   "metadata": {
    "collapsed": true
   },
   "outputs": [],
   "source": [
    "import base\n",
    "import numpy as np\n",
    "import pandas as pd\n",
    "\n",
    "pus = base.ProductUserSet(product_cate=8)"
   ]
  },
  {
   "cell_type": "code",
   "execution_count": 11,
   "metadata": {
    "collapsed": true
   },
   "outputs": [],
   "source": [
    "data = pd.DataFrame(pus.get_user_sku_action('favor', pus.TYPE_FAVOR, 0, 6e6))\n",
    "data = data.join(pus.get_user_sku_action('buy1', pus.TYPE_BUY, 0, 3e6), how='outer')\n",
    "data = data.join(pus.get_user_sku_action('buy2', pus.TYPE_BUY, 3e6, 5e6), how='outer')\n",
    "data = data.join(pus.get_user_sku_action('buy3', pus.TYPE_BUY, 5e6, 6e6), how='outer')\n",
    "data = data.join(pus.get_user_sku_action('view1', pus.TYPE_VIEW, 0, 3e6), how='outer')\n",
    "data = data.join(pus.get_user_sku_action('view2', pus.TYPE_VIEW, 3e6, 5e6), how='outer')\n",
    "data = data.join(pus.get_user_sku_action('view3', pus.TYPE_VIEW, 5e6, 6e6), how='outer')\n",
    "data = data.join(pus.get_user_sku_cart('cart1', 0, 3e6, True), how='outer')\n",
    "data = data.join(pus.get_user_sku_cart('cart2', 0, 6e6, True), how='outer')\n",
    "data = data.join(pus.get_user_sku_action('click1', pus.TYPE_CLICK, 0, 3e6), how='outer')\n",
    "data = data.join(pus.get_user_sku_action('click2', pus.TYPE_CLICK, 3e6, 5e6), how='outer')\n",
    "data = data.join(pus.get_user_sku_action('click3', pus.TYPE_CLICK, 5e6, 6e6), how='outer')\n",
    "data = data.join(pus.get_user_sku_action('final', pus.TYPE_BUY, 6e6, 6e6 + 5 * 24 *3600), how='outer')\n",
    "data[pd.isnull(data)] = 0"
   ]
  },
  {
   "cell_type": "code",
   "execution_count": 12,
   "metadata": {
    "collapsed": true
   },
   "outputs": [],
   "source": [
    "def factor_analyse(col1, col2, dt=data, print_out=True):\n",
    "    f1 = dt[col1] > 0\n",
    "    f2 = dt[col2] > 0\n",
    "    num1 = np.sum(np.logical_and(f1, f2))\n",
    "    num2 = np.sum(np.logical_and(f1, np.logical_not(f2)))\n",
    "    num3 = np.sum(np.logical_and(np.logical_not(f1), f2))\n",
    "    num4 = np.sum(np.logical_not(np.logical_or(f1, f2)))\n",
    "    if print_out:\n",
    "        print '\\t{}\\t{}'.format(col2, '-')\n",
    "        print '{}\\t{}\\t{}'.format(col1, num1, num2)\n",
    "        print '{}\\t{}\\t{}'.format('-', num3, num4)\n",
    "    return num1, num2, num3, num4"
   ]
  },
  {
   "cell_type": "code",
   "execution_count": 13,
   "metadata": {},
   "outputs": [
    {
     "name": "stdout",
     "output_type": "stream",
     "text": [
      "\tfinal\t-\n",
      "favor\t88\t34513\n",
      "-\t1226\t1293045\n",
      "\tfinal\t-\n",
      "buy1\t0\t3229\n",
      "-\t1314\t1324329\n",
      "\tfinal\t-\n",
      "buy2\t0\t5553\n",
      "-\t1314\t1322005\n",
      "\tfinal\t-\n",
      "buy3\t0\t2850\n",
      "-\t1314\t1324708\n",
      "\tfinal\t-\n",
      "view1\t81\t446523\n",
      "-\t1233\t881035\n",
      "\tfinal\t-\n",
      "view2\t209\t641314\n",
      "-\t1105\t686244\n",
      "\tfinal\t-\n",
      "view3\t482\t316531\n",
      "-\t832\t1011027\n",
      "\tfinal\t-\n",
      "cart1\t18\t29841\n",
      "-\t1296\t1297717\n",
      "\tfinal\t-\n",
      "cart2\t316\t84195\n",
      "-\t998\t1243363\n",
      "\tfinal\t-\n",
      "click1\t73\t437872\n",
      "-\t1241\t889686\n",
      "\tfinal\t-\n",
      "click2\t204\t611369\n",
      "-\t1110\t716189\n",
      "\tfinal\t-\n",
      "click3\t458\t303699\n",
      "-\t856\t1023859\n",
      "\tfinal\t-\n",
      "final\t1314\t0\n",
      "-\t0\t1327558\n"
     ]
    }
   ],
   "source": [
    "buy_stat = pd.DataFrame()\n",
    "for col in data.columns:\n",
    "    buy_stat[col] = factor_analyse(col, 'final')\n",
    "\n",
    "import pickle\n",
    "with open('data/probability', 'w') as f:\n",
    "    pickle.dump(buy_stat, f)"
   ]
  },
  {
   "cell_type": "code",
   "execution_count": 14,
   "metadata": {},
   "outputs": [
    {
     "name": "stdout",
     "output_type": "stream",
     "text": [
      "favor \t+\t0.00254327909598 \t-\t0.000947251387074 \tratio\t2.68490406104\n",
      "buy1 \t+\t0.0 \t-\t0.000991217092385 \tratio\t0.0\n",
      "buy2 \t+\t0.0 \t-\t0.000992957858234 \tratio\t0.0\n",
      "buy3 \t+\t0.0 \t-\t0.000990933785412 \tratio\t0.0\n",
      "view1 \t+\t0.000181368729344 \t-\t0.00139753453599 \tratio\t0.12977763674\n",
      "view2 \t+\t0.000325787228205 \t-\t0.00160762582036 \tratio\t0.202651154317\n",
      "view3 \t+\t0.00152044237933 \t-\t0.000822248949705 \tratio\t1.84912656912\n",
      "cart1 \t+\t0.000602833316588 \t-\t0.000997680546692 \tratio\t0.604234811019\n",
      "cart2 \t+\t0.00373915821609 \t-\t0.00080201806389 \tratio\t4.66218703099\n",
      "click1 \t+\t0.000166687597758 \t-\t0.00139293118291 \tratio\t0.119666785985\n",
      "click2 \t+\t0.00033356606652 \t-\t0.00154747183532 \tratio\t0.215555500855\n",
      "click3 \t+\t0.00150580128026 \t-\t0.000835354220442 \tratio\t1.8025901389\n",
      "final \t+\t1.0 \t-\t1e-08 \tratio\t100000000.0\n"
     ]
    }
   ],
   "source": [
    "for col in buy_stat.columns:\n",
    "    prob1 = buy_stat[col][0] * 1.0 / (buy_stat[col][0] + buy_stat[col][1])\n",
    "    prob2 = buy_stat[col][2] * 1.0 / (buy_stat[col][2] + buy_stat[col][3])\n",
    "    if prob2 == 0.0:\n",
    "        prob2 += 1e-8\n",
    "    print col, '\\t+\\t', prob1, '\\t-\\t', prob2, '\\tratio\\t', prob1 / prob2"
   ]
  },
  {
   "cell_type": "code",
   "execution_count": 15,
   "metadata": {
    "scrolled": false
   },
   "outputs": [
    {
     "name": "stdout",
     "output_type": "stream",
     "text": [
      "favor + subset\n",
      "buy1 \t0.0 \t0.00256672014 \t0.0\n",
      "buy2 \t0.0 \t0.00258953005915 \t0.0\n",
      "buy3 \t0.0 \t0.00256769374416 \t0.0\n",
      "view1 \t0.000952450728991 \t0.00357961053837 \t0.266076635651\n",
      "view2 \t0.00182978092082 \t0.00354659248957 \t0.515926463558\n",
      "view3 \t0.00642292490119 \t0.000445295453533 \t14.4239624506\n",
      "cart1 \t0.00171673819742 \t0.00260295621456 \t0.659534028204\n",
      "cart2 \t0.00661157024793 \t0.00157446503972 \t4.1992486852\n",
      "click1 \t0.000750018750469 \t0.00366748166259 \t0.204505112628\n",
      "click2 \t0.0018812283913 \t0.00341525480479 \t0.550831050338\n",
      "click3 \t0.00649405414523 \t0.000483644037988 \t13.4273424981\n",
      "\n",
      "buy1 + subset\n",
      "favor \t0.0 \t0.000343288705802 \t0.0\n",
      "buy2 \t0.0 \t0.000309789343247 \t0.0\n",
      "buy3 \tnan \t0.000309693403531 \tnan\n",
      "view1 \t0.0 \t0.0277777777778 \t0.0\n",
      "view2 \t0.0 \t0.000503524672709 \t0.0\n",
      "view3 \t0.0 \t0.000346380325598 \t0.0\n",
      "cart1 \t0.0 \t0.00170648464164 \t0.0\n",
      "cart2 \t0.0 \t0.00171821305842 \t0.0\n",
      "click1 \t0.0 \t0.00621118012422 \t0.0\n",
      "click2 \t0.0 \t0.000489476260401 \t0.0\n",
      "click3 \t0.0 \t0.000344708721131 \t0.0\n",
      "\n",
      "buy2 + subset\n",
      "favor \t0.0 \t0.000202634245187 \t0.0\n",
      "buy1 \t0.0 \t0.000180115273775 \t0.0\n",
      "buy3 \tnan \t0.000180082838106 \tnan\n",
      "view1 \t0.0 \t0.000229937916762 \t0.0\n",
      "view2 \t0.0 \t0.0181818181818 \t0.0\n",
      "view3 \t0.0 \t0.000242541838467 \t0.0\n",
      "cart1 \t0.0 \t0.000193610842207 \t0.0\n",
      "cart2 \t0.0 \t0.00093896713615 \t0.0\n",
      "click1 \t0.0 \t0.000227169468423 \t0.0\n",
      "click2 \t0.0 \t0.00413223140496 \t0.0\n",
      "click3 \t0.0 \t0.000239635753654 \t0.0\n",
      "\n",
      "buy3 + subset\n",
      "favor \t0.0 \t0.000396667988893 \t0.0\n",
      "buy1 \tnan \t0.000350877192982 \tnan\n",
      "buy2 \tnan \t0.000350877192982 \tnan\n",
      "view1 \t0.0 \t0.000383435582822 \t0.0\n",
      "view2 \t0.0 \t0.000483325277912 \t0.0\n",
      "view3 \t0.0 \t0.03125 \t0.0\n",
      "cart1 \t0.0 \t0.000359066427289 \t0.0\n",
      "cart2 \t0.0 \t0.00332225913621 \t0.0\n",
      "click1 \t0.0 \t0.000382848392037 \t0.0\n",
      "click2 \t0.0 \t0.00047619047619 \t0.0\n",
      "click3 \t0.0 \t0.00719424460432 \t0.0\n",
      "\n",
      "view1 + subset\n"
     ]
    },
    {
     "name": "stderr",
     "output_type": "stream",
     "text": [
      "/usr/local/lib/python2.7/site-packages/ipykernel_launcher.py:10: RuntimeWarning: invalid value encountered in double_scalars\n",
      "  # Remove the CWD from sys.path while we load stuff.\n"
     ]
    },
    {
     "name": "stdout",
     "output_type": "stream",
     "text": [
      "favor \t0.000952450728991 \t0.000157060202561 \t6.06423978486\n",
      "buy1 \t0.0 \t0.000182674764496 \t0.0\n",
      "buy2 \t0.0 \t0.000181859003143 \t0.0\n",
      "buy3 \t0.0 \t0.000181467060368 \t0.0\n",
      "view2 \t0.000643259981749 \t0.000100063988287 \t6.42848633919\n",
      "view3 \t0.00209674273454 \t8.91817806316e-05 \t23.5108866373\n",
      "cart1 \t0.000592724309106 \t0.000154905745812 \t3.82635457452\n",
      "cart2 \t0.0013228894691 \t0.000102900600413 \t12.8559936851\n",
      "click1 \t0.000171846258108 \t0.000299007295778 \t0.574722625617\n",
      "click2 \t0.000665089013658 \t9.94892014944e-05 \t6.68503720672\n",
      "click3 \t0.00206019798 \t9.37420172813e-05 \t21.9773164665\n",
      "\n",
      "view2 + subset\n",
      "favor \t0.00182978092082 \t0.000276837995049 \t6.60957293994\n",
      "buy1 \t0.0 \t0.000326419691385 \t0.0\n",
      "buy2 \t0.0 \t0.0003286034354 \t0.0\n",
      "buy3 \t0.0 \t0.000326184330042 \t0.0\n",
      "view1 \t0.000643259981749 \t0.000288858417613 \t2.22690405585\n",
      "view3 \t0.00198789028305 \t0.000170447475758 \t11.6627733805\n",
      "cart1 \t0.00109569028488 \t0.00031241525538 \t3.50715999303\n",
      "cart2 \t0.0022734927585 \t0.00017002823142 \t13.3712662863\n",
      "click1 \t0.000662976610802 \t0.000287862602833 \t2.30310086923\n",
      "click2 \t0.000337357445394 \t0.00018488085456 \t1.82472893798\n",
      "click3 \t0.00203155556399 \t0.000173217809508 \t11.7283296086\n",
      "\n",
      "view3 + subset\n",
      "favor \t0.00642292490119 \t0.00132515933073 \t4.84690765272\n",
      "buy1 \t0.0 \t0.00152208443463 \t0.0\n",
      "buy2 \t0.0 \t0.00152733195388 \t0.0\n",
      "buy3 \t0.0 \t0.00153407915467 \t0.0\n",
      "view1 \t0.00209674273454 \t0.00148058211497 \t1.4161610581\n",
      "view2 \t0.00198789028305 \t0.00142268127744 \t1.39728434933\n",
      "cart1 \t0.00318287037037 \t0.00150211923191 \t2.1189199251\n",
      "cart2 \t0.00797795184218 \t0.000732631847188 \t10.8894417746\n",
      "click1 \t0.00185166649985 \t0.0014981601247 \t1.23596034184\n",
      "click2 \t0.00205977151794 \t0.00141356111573 \t1.45715066368\n",
      "click3 \t0.00153617644665 \t0.00131073446328 \t1.17199668559\n",
      "\n",
      "cart1 + subset\n",
      "favor \t0.00171673819742 \t0.000508554615133 \t3.37572041692\n",
      "buy1 \t0.0 \t0.000661375661376 \t0.0\n",
      "buy2 \t0.0 \t0.000610769909402 \t0.0\n",
      "buy3 \t0.0 \t0.000604148486272 \t0.0\n",
      "view1 \t0.000592724309106 \t0.000698080279232 \t0.849077572794\n",
      "view2 \t0.00109569028488 \t0.000317342783096 \t3.4527027027\n",
      "view3 \t0.00318287037037 \t0.000265121387721 \t12.0053323413\n",
      "cart2 \t0.000717789209236 \t0.000209117524049 \t3.43246799856\n",
      "click1 \t0.00057431656329 \t0.000801924619086 \t0.716172754422\n",
      "click2 \t0.00113647125675 \t0.000310880829016 \t3.65564920921\n",
      "click3 \t0.00330628193568 \t0.000263832353385 \t12.5317531882\n",
      "\n",
      "cart2 + subset\n",
      "favor \t0.00661157024793 \t0.00349362926428 \t1.8924647545\n",
      "buy1 \t0.0 \t0.00386006058829 \t0.0\n",
      "buy2 \t0.0 \t0.0039488647014 \t0.0\n",
      "buy3 \t0.0 \t0.00385544520632 \t0.0\n",
      "view1 \t0.0013228894691 \t0.00498332915068 \t0.26546299253\n",
      "view2 \t0.0022734927585 \t0.00562055827276 \t0.404495896702\n",
      "view3 \t0.00797795184218 \t0.000819328150916 \t9.73718751548\n",
      "cart1 \t0.000717789209236 \t0.0050139650705 \t0.143157999536\n",
      "click1 \t0.00118841832325 \t0.00498739932679 \t0.238284172849\n",
      "click2 \t0.00233655063982 \t0.00539814551747 \t0.43284321111\n",
      "click3 \t0.00776079894116 \t0.00113133204596 \t6.8598772296\n",
      "\n",
      "click1 + subset\n",
      "favor \t0.000750018750469 \t0.000148370747883 \t5.05503113768\n",
      "buy1 \t0.0 \t0.000167863556822 \t0.0\n",
      "buy2 \t0.0 \t0.000167126837823 \t0.0\n",
      "buy3 \t0.0 \t0.000166778232928 \t0.0\n",
      "view1 \t0.000171846258108 \t8.06939681259e-05 \t2.12960475361\n",
      "view2 \t0.000662976610802 \t8.04104147569e-05 \t8.24490972725\n",
      "view3 \t0.00185166649985 \t8.61320260406e-05 \t21.4980023688\n",
      "cart1 \t0.00057431656329 \t0.000140835836407 \t4.07791495362\n",
      "cart2 \t0.00118841832325 \t9.75188759974e-05 \t12.1865465644\n",
      "click2 \t0.000660816646432 \t8.04561326346e-05 \t8.21337820739\n",
      "click3 \t0.00184870590587 \t8.61386209685e-05 \t21.4619863318\n",
      "\n",
      "click2 + subset\n",
      "favor \t0.0018812283913 \t0.000282139870418 \t6.66771551467\n",
      "buy1 \t0.0 \t0.000334214195256 \t0.0\n",
      "buy2 \t0.0 \t0.000336488184976 \t0.0\n",
      "buy3 \t0.0 \t0.00033397563615 \t0.0\n",
      "view1 \t0.000665089013658 \t0.000294375777079 \t2.25931977236\n",
      "view2 \t0.000337357445394 \t0.000213561131874 \t1.57967623806\n",
      "view3 \t0.00205977151794 \t0.000171692241657 \t11.9968817348\n",
      "cart1 \t0.00113647125675 \t0.00031946011241 \t3.55747466616\n",
      "cart2 \t0.00233655063982 \t0.000171445034192 \t13.6285699428\n",
      "click1 \t0.000660816646432 \t0.000294600934672 \t2.24309080067\n",
      "click3 \t0.00205945729486 \t0.000171694698211 \t11.9948799603\n",
      "\n",
      "click3 + subset\n",
      "favor \t0.00649405414523 \t0.00130345535409 \t4.98218379698\n",
      "buy1 \t0.0 \t0.00150742687499 \t0.0\n",
      "buy2 \t0.0 \t0.0015126644362 \t0.0\n",
      "buy3 \t0.0 \t0.00151934343133 \t0.0\n",
      "view1 \t0.00206019798 \t0.00146698750422 \t1.40437323022\n",
      "view2 \t0.00203155556399 \t0.00139569283624 \t1.45558930393\n",
      "view3 \t0.00153617644665 \t0.000539432516992 \t2.8477638968\n",
      "cart1 \t0.00330628193568 \t0.00148588904032 \t2.22512034611\n",
      "cart2 \t0.00776079894116 \t0.000738244381037 \t10.5125066177\n",
      "click1 \t0.00184870590587 \t0.00148164832496 \t1.24773596725\n",
      "click2 \t0.00205945729486 \t0.00139045591063 \t1.48113814981\n",
      "\n",
      "\n"
     ]
    }
   ],
   "source": [
    "# More complex interactions\n",
    "for col in data.columns:\n",
    "    if col != 'final':\n",
    "        sub_set = data[data[col] > 0]\n",
    "        print col, \"+ subset\"\n",
    "\n",
    "        for col2 in sub_set.columns:\n",
    "            if col2 != col and col2 != 'final':\n",
    "                ret = factor_analyse(col2, 'final', sub_set, False)\n",
    "                prob1 = ret[0] * 1.0 / (ret[0] + ret[1])\n",
    "                prob2 = ret[2] * 1.0 / (ret[2] + ret[3])\n",
    "                if ret[2] == 0:\n",
    "                    prob2 = 1.0 / (ret[2] + ret[3])\n",
    "                print col2, '\\t', prob1, '\\t', prob2, '\\t', prob1 / prob2\n",
    "    print"
   ]
  },
  {
   "cell_type": "markdown",
   "metadata": {},
   "source": [
    "#### Summary\n",
    "\n",
    "Favor will increase probability for buying.\n",
    "\n",
    "Recent click/viewing/adding to cart increases probability.\n",
    "\n",
    "If the item is added to cart/viewed/clicked early on, it's less likely to be bought.\n",
    "\n",
    "If the item has been bought, it will never be bought again.\n"
   ]
  },
  {
   "cell_type": "code",
   "execution_count": 16,
   "metadata": {
    "collapsed": true
   },
   "outputs": [],
   "source": [
    "train_data = data.drop('final', 1).as_matrix()\n",
    "train_label = np.array(data['final'] > 0, dtype=int)\n",
    "mean_dt = np.mean(train_data, axis=0)\n",
    "std_dt = np.std(train_data, axis=0)\n",
    "train_data = (train_data - mean_dt) / std_dt"
   ]
  },
  {
   "cell_type": "code",
   "execution_count": 17,
   "metadata": {
    "collapsed": true
   },
   "outputs": [],
   "source": [
    "nrow = len(train_data)\n",
    "test_size = int(nrow * 0.3)\n",
    "import random\n",
    "idx = random.sample(xrange(nrow), test_size)\n",
    "mask = np.ones(nrow, dtype=bool)\n",
    "mask[idx] = False\n",
    "np.save('train_data4', train_data[mask, :])\n",
    "np.save('train_label4', train_label[mask])\n",
    "np.save('test_data4', train_data[idx, :])\n",
    "np.save('test_label4', train_label[idx])"
   ]
  },
  {
   "cell_type": "code",
   "execution_count": null,
   "metadata": {
    "collapsed": true
   },
   "outputs": [],
   "source": []
  }
 ],
 "metadata": {
  "kernelspec": {
   "display_name": "Python 2",
   "language": "python",
   "name": "python2"
  },
  "language_info": {
   "codemirror_mode": {
    "name": "ipython",
    "version": 2
   },
   "file_extension": ".py",
   "mimetype": "text/x-python",
   "name": "python",
   "nbconvert_exporter": "python",
   "pygments_lexer": "ipython2",
   "version": "2.7.13"
  }
 },
 "nbformat": 4,
 "nbformat_minor": 2
}
